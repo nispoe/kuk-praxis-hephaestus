{
 "cells": [
  {
   "cell_type": "markdown",
   "id": "04c544d1-4868-4e76-8793-27121be4d1ac",
   "metadata": {},
   "source": [
    "# This notebook is used to process my dataset used for my research."
   ]
  },
  {
   "cell_type": "markdown",
   "id": "2fc1ae60-0f11-4207-b257-3c376eb8257a",
   "metadata": {},
   "source": [
    "## Machine generated news"
   ]
  },
  {
   "cell_type": "markdown",
   "id": "a357f8f2-52c5-4be3-adb9-ffec57474904",
   "metadata": {},
   "source": [
    "### Function to process jsonl file and read in lines filtering out just the machine generated articles with filer keys (article and label)"
   ]
  },
  {
   "cell_type": "code",
   "execution_count": 1,
   "id": "95312bc0-e9c5-49c2-8aad-e0c224cc9c44",
   "metadata": {},
   "outputs": [],
   "source": [
    "custom_seed=1701"
   ]
  },
  {
   "cell_type": "code",
   "execution_count": 2,
   "id": "0e548f8c-2835-4eea-bf5d-1840d3b699f2",
   "metadata": {},
   "outputs": [],
   "source": [
    "import json\n",
    "import pandas as pd\n",
    "import numpy as np\n",
    "from tqdm.auto import tqdm\n",
    "\n",
    "def process_file(file_path, unique_lines):\n",
    "    with open(file_path, 'r', encoding='utf-8') as file:\n",
    "        for line in file:\n",
    "            record = json.loads(line)\n",
    "\n",
    "            if record.get('label') == 'human':\n",
    "                continue\n",
    "\n",
    "            filtered_record = {}\n",
    "            filter_keys = ['article', 'label']\n",
    "            for key in filter_keys:\n",
    "                if key in record:\n",
    "                    filtered_record[key] = record[key]\n",
    "            \n",
    "            # filtered_record = {key: record[key] for key in ['article', 'label'] if key in record}\n",
    "            unique_lines.add(json.dumps(filtered_record, ensure_ascii=False))"
   ]
  },
  {
   "cell_type": "markdown",
   "id": "448e3728-4b27-4506-b80a-4f2e9a3d2765",
   "metadata": {},
   "source": [
    "### Look at one of the files to see what the data looks like in the grover generated news file"
   ]
  },
  {
   "cell_type": "code",
   "execution_count": 10,
   "id": "2ec94dfd-b961-473b-89b3-a052a08d590a",
   "metadata": {},
   "outputs": [
    {
     "data": {
      "application/vnd.jupyter.widget-view+json": {
       "model_id": "97f6902ec8404c289281644602d4feda",
       "version_major": 2,
       "version_minor": 0
      },
      "text/plain": [
       "0it [00:00, ?it/s]"
      ]
     },
     "metadata": {},
     "output_type": "display_data"
    },
    {
     "name": "stdout",
     "output_type": "stream",
     "text": [
      "                                             article               domain  \\\n",
      "0  Patrons crowd the platform at the Washington M...    theepochtimes.com   \n",
      "1  As the price of oil continues to rise due to i...     seekingalpha.com   \n",
      "2  In December 2018 the issue of why the Canadian...    ottawacitizen.com   \n",
      "3  Modi also said the opposition wants to strip t...  deccanchronicle.com   \n",
      "4  Following a community meeting held yesterday a...  jamaica-gleaner.com   \n",
      "\n",
      "                                               title            date  \\\n",
      "0  US Senators Threaten Metro Funding Over Chines...  April 15, 2019   \n",
      "1   Supply Fundamentals Point To Continued Oil Rally  April 12, 2019   \n",
      "2  Military assessment ruling out the need for a ...  April 16, 2019   \n",
      "3  Mahamilavat gang scared I will shut their shop...  April 11, 2019   \n",
      "4  Residents lament waterfront noise nuisance - K...  April 10, 2019   \n",
      "\n",
      "                      authors  ind30k  \\\n",
      "0                        None   29363   \n",
      "1               Atlas Grinned    4999   \n",
      "2                     Updated   23090   \n",
      "3                        None   28881   \n",
      "4  Jason Cross Gleaner Writer    2274   \n",
      "\n",
      "                                                 url    label    orig_split  \\\n",
      "0  https://www.theepochtimes.com/us-senators-thre...    human  train_burner   \n",
      "1  https://seekingalpha.com/article/4254101-suppl...  machine           gen   \n",
      "2  https://ottawacitizen.com/news/national/defenc...    human  train_burner   \n",
      "3  https://www.deccanchronicle.com/nation/politic...    human  train_burner   \n",
      "4  http://beta.jamaica-gleaner.com/article/lead-s...  machine           gen   \n",
      "\n",
      "   split  random_score  top_p  \n",
      "0  train     -4.263557    NaN  \n",
      "1  train           NaN    0.9  \n",
      "2  train     -3.863624    NaN  \n",
      "3  train     -3.813725    NaN  \n",
      "4  train           NaN    0.9  \n",
      "Total records in DataFrame: 25000\n",
      "label\n",
      "human      15000\n",
      "machine    10000\n",
      "Name: count, dtype: int64\n"
     ]
    }
   ],
   "source": [
    "# file_path = \"./data/generator=base~dataset=p0.90.jsonl\"\n",
    "# file_path = \"./data/generator=medium~dataset=p0.90.jsonl\"\n",
    "file_path = \"./data/generator=mega~dataset=p0.90.jsonl\"\n",
    "\n",
    "records = []\n",
    "\n",
    "\n",
    "with open(file_path, 'r', encoding='utf-8') as file:\n",
    "    for line in tqdm(file):\n",
    "        record = json.loads(line)\n",
    "        records.append(record)\n",
    "\n",
    "df = pd.DataFrame(records)\n",
    "\n",
    "print(df.head())\n",
    "print(f\"Total records in DataFrame: {len(df)}\")\n",
    "\n",
    "label_counts = df['label'].value_counts()\n",
    "print(label_counts)"
   ]
  },
  {
   "cell_type": "markdown",
   "id": "8fe1e87d-0a19-4e16-854a-eb7527d1f5fc",
   "metadata": {},
   "source": [
    "### Process all the jsonl files and merge into one dataset"
   ]
  },
  {
   "cell_type": "code",
   "execution_count": 3,
   "id": "23802dfa-d2f6-4c3e-8339-f2defa54b7d4",
   "metadata": {},
   "outputs": [
    {
     "data": {
      "application/vnd.jupyter.widget-view+json": {
       "model_id": "5629629d44d24622a24b8a8b4cc24dfe",
       "version_major": 2,
       "version_minor": 0
      },
      "text/plain": [
       "  0%|          | 0/18 [00:00<?, ?it/s]"
      ]
     },
     "metadata": {},
     "output_type": "display_data"
    }
   ],
   "source": [
    "unique_lines = set()\n",
    "\n",
    "file_paths = [\n",
    "    './data/generator=base~dataset=p0.90.jsonl',\n",
    "    './data/generator=base~dataset=p0.92.jsonl',\n",
    "    './data/generator=base~dataset=p0.94.jsonl',\n",
    "    './data/generator=base~dataset=p0.96.jsonl',\n",
    "    './data/generator=base~dataset=p0.98.jsonl',\n",
    "    './data/generator=base~dataset=p1.00.jsonl',\n",
    "    './data/generator=medium~dataset=p0.90.jsonl',\n",
    "    './data/generator=medium~dataset=p0.92.jsonl',\n",
    "    './data/generator=medium~dataset=p0.94.jsonl',\n",
    "    './data/generator=medium~dataset=p0.96.jsonl',\n",
    "    './data/generator=medium~dataset=p0.98.jsonl',\n",
    "    './data/generator=medium~dataset=p1.00.jsonl',\n",
    "    './data/generator=mega~dataset=p0.90.jsonl',\n",
    "    './data/generator=mega~dataset=p0.92.jsonl',\n",
    "    './data/generator=mega~dataset=p0.94.jsonl',\n",
    "    './data/generator=mega~dataset=p0.96.jsonl',\n",
    "    './data/generator=mega~dataset=p0.98.jsonl',\n",
    "    './data/generator=mega~dataset=p1.00.jsonl'\n",
    "]\n",
    "\n",
    "unique_lines = set()\n",
    "\n",
    "for file_path in tqdm(file_paths):\n",
    "    process_file(file_path, unique_lines)"
   ]
  },
  {
   "cell_type": "markdown",
   "id": "d18ea4bd-7fd2-4c4c-b31d-6a97ea693624",
   "metadata": {},
   "source": [
    "### Create a machine dataframe with all the machine generated data"
   ]
  },
  {
   "cell_type": "code",
   "execution_count": 4,
   "id": "f7c2d34b-4aa2-4b95-b18f-a20bd10cb182",
   "metadata": {},
   "outputs": [
    {
     "name": "stdout",
     "output_type": "stream",
     "text": [
      "DataFrame head and number of records before saving to .npy.\n",
      "\n",
      "                                             article    label\n",
      "0  This weekend, Sen. Bernie Sanders is scheduled...  machine\n",
      "1  January 26 is Easter, and it's also a time to ...  machine\n",
      "2  A COWARD at Stair Hole cove in Poole has been ...  machine\n",
      "3  Start with a neutral silk suit and breathe dee...  machine\n",
      "4  BC-EU--UK-Brexit-Wales,1st Ld-Writethru\\nLONDO...  machine\n",
      "5  The New York Yankees continued a five-game los...  machine\n",
      "6  Please enable Javascript to watch this video\\n...  machine\n",
      "7  Brace yourselves - this Alabama locker room is...  machine\n",
      "8  Buckle up, because on Thursday, four more fami...  machine\n",
      "9  Planned for 10 acres off Jonathan Bethel Road ...  machine\n",
      "\n",
      "Number of records: 179998\n",
      "\n",
      "Time taken to process: 1.28 seconds\n"
     ]
    }
   ],
   "source": [
    "import subprocess\n",
    "import time\n",
    "start_time = time.time()\n",
    "\n",
    "machine_news_df = pd.DataFrame([json.loads(line) for line in unique_lines])\n",
    "print(f\"DataFrame head and number of records before saving to .npy.\"+\"\\n\")\n",
    "print(machine_news_df.head(10))\n",
    "num_records = len(machine_news_df)\n",
    "print(\"\\n\"+f\"Number of records: {num_records}\")\n",
    "\n",
    "end_time = time.time()\n",
    "duration = end_time - start_time\n",
    "print(\"\\n\"+f\"Time taken to process: {duration:.2f} seconds\")"
   ]
  },
  {
   "cell_type": "markdown",
   "id": "0d3283dc-0166-493c-9002-4a3ef609492c",
   "metadata": {},
   "source": [
    "## Human created real news"
   ]
  },
  {
   "cell_type": "code",
   "execution_count": 12,
   "id": "d243c857-9b4f-4bdf-a0ba-e65c99aae03d",
   "metadata": {},
   "outputs": [
    {
     "name": "stdout",
     "output_type": "stream",
     "text": [
      "                                                 url  \\\n",
      "0  http://mashable.com/2016/09/21/dairy-queen-sna...   \n",
      "1  http://www.washingtonpost.com/blogs/on-faith/w...   \n",
      "2  http://www.nydailynews.com/life-style/driver-k...   \n",
      "3  http://www.nydailynews.com/sports/football/gia...   \n",
      "4  https://www.thesun.co.uk/news/1430259/little-l...   \n",
      "\n",
      "                                            url_used  \\\n",
      "0  https://web.archive.org/web/2016092119id_/http...   \n",
      "1  https://web.archive.org/web/2013121219id_/http...   \n",
      "2  https://web.archive.org/web/2015072219id_/http...   \n",
      "3  https://web.archive.org/web/2015100519id_/http...   \n",
      "4  https://web.archive.org/web/2016071219id_/http...   \n",
      "\n",
      "                                               title  \\\n",
      "0  Here's what happened when we blew NYC's mind w...   \n",
      "1  In Pope Francis era, Catholics still finding t...   \n",
      "2  Aussie who killed 2 in crashes wants driver's ...   \n",
      "3  Myers: Jets, Giants both relevant at quarter mark   \n",
      "4  Little lad, two, has to be rescued by firefigh...   \n",
      "\n",
      "                                                text  \\\n",
      "0  You never really know what kind of magical thi...   \n",
      "1  The message of the Broadway classic, Fiddler o...   \n",
      "2  Sheila Paras/Getty Images/Flickr RF An Aussie ...   \n",
      "3  Bill Wippert/AP Rueben Randle proves to be eff...   \n",
      "4  Oscar Clare's mum Kellie Marie Allen turned ro...   \n",
      "\n",
      "                                             summary  \\\n",
      "0  Pretzel sticks, potato skins, and zesty queso ...   \n",
      "1  We Catholics have been fighting among ourselve...   \n",
      "2  A woman who allegedly killed two men in crashe...   \n",
      "3  It’s a huge bonus the Jets and Giants made it ...   \n",
      "4                                               None   \n",
      "\n",
      "                                   authors publish_date              domain  \\\n",
      "0                            [Dairy Queen]   09-21-2016        mashable.com   \n",
      "1  [Jessica Stahl, Anthony Stevens Arroyo]   12-09-2013  washingtonpost.com   \n",
      "2                        [Tobias Salinger]   07-22-2015     nydailynews.com   \n",
      "3                             [Gary Myers]   10-04-2015     nydailynews.com   \n",
      "4                            [Felix Allen]   07-12-2016        thesun.co.uk   \n",
      "\n",
      "    warc_date           status  split  \n",
      "0  2016092119  success_wayback  train  \n",
      "1  2013121219  success_wayback  train  \n",
      "2  2015072219  success_wayback  train  \n",
      "3  2015100519  success_wayback  train  \n",
      "4  2016071219  success_wayback  train  \n"
     ]
    }
   ],
   "source": [
    "import pandas as pd\n",
    "\n",
    "# Define the path to the file\n",
    "file_path = 'data/realnews.jsonl'\n",
    "\n",
    "# Read only the first 5 lines from the JSON Lines file\n",
    "df = pd.read_json(file_path, lines=True, nrows=5)\n",
    "\n",
    "# Display the data\n",
    "print(df)"
   ]
  },
  {
   "cell_type": "markdown",
   "id": "c713a9f4-5445-417e-b220-bb9325499182",
   "metadata": {},
   "source": [
    "### Find the total number of records in the file"
   ]
  },
  {
   "cell_type": "code",
   "execution_count": 5,
   "id": "fc008ada-ee06-49a0-839e-193a9f68de33",
   "metadata": {},
   "outputs": [
    {
     "name": "stdout",
     "output_type": "stream",
     "text": [
      "Total records: 10030998\n",
      "\n",
      "Time taken to process: 3.99 seconds\n"
     ]
    }
   ],
   "source": [
    "import subprocess\n",
    "import time\n",
    "\n",
    "human_news_file = './data/realnews.jsonl'\n",
    "start_time = time.time()\n",
    "\n",
    "# First way to read files for a record count (17 seconds)\n",
    "# total_records = 0\n",
    "# with open(input_file_path, 'r', encoding='utf-8') as file:\n",
    "#     for line in tqdm(file):\n",
    "#         total_records += 1\n",
    "\n",
    "# Second way to read files for a record count (16 seconds)\n",
    "# total_records = sum(1 for _ in open(input_file_path, 'r', encoding='utf-8'))\n",
    "\n",
    "# Third way to read files for a record count (4 seconds)\n",
    "result = subprocess.run(['wc', '-l', human_news_file], text=True, capture_output=True)\n",
    "total_records = int(result.stdout.split()[0])\n",
    "\n",
    "end_time = time.time()\n",
    "duration = end_time - start_time\n",
    "total_records = int(result.stdout.split()[0])\n",
    "print(f\"Total records: {total_records}\")\n",
    "print(\"\\n\"+f\"Time taken to process: {duration:.2f} seconds\")"
   ]
  },
  {
   "cell_type": "markdown",
   "id": "5062a6a8-7087-4e9e-8330-77845bd101fb",
   "metadata": {},
   "source": [
    "### Randomly select human news articles"
   ]
  },
  {
   "cell_type": "code",
   "execution_count": 6,
   "id": "59e06fb3-2327-42e7-bab1-1132f987ee53",
   "metadata": {},
   "outputs": [
    {
     "data": {
      "application/vnd.jupyter.widget-view+json": {
       "model_id": "de176a26990a4a0299666d628ad50c71",
       "version_major": 2,
       "version_minor": 0
      },
      "text/plain": [
       "  0%|          | 0/10030998 [00:00<?, ?it/s]"
      ]
     },
     "metadata": {},
     "output_type": "display_data"
    },
    {
     "name": "stdout",
     "output_type": "stream",
     "text": [
      "                                             article  label\n",
      "0  Locals call Radishchev Street the \"street of t...  human\n",
      "1  Limeade has pulled in $5 million in fresh capi...  human\n",
      "2  A 43-year-old woman who bravely chased down an...  human\n",
      "3  Let me be clear: I do not believe that Nazi wa...  human\n",
      "4  This past weekend, much of the Mashable team d...  human\n",
      "5  James Bond was always fussy about his food – r...  human\n",
      "6  Last Friday’s post, “Big Data Gets Bigger: Now...  human\n",
      "7  An undated photo of U.S. Army Sgt. Bowe Bergda...  human\n",
      "8  Updated below with answer and winner.\\nWe’ve g...  human\n",
      "9  It was the sunburn from hell.\\nTwo boys were t...  human\n",
      "\n",
      "Total records selected: 300151\n"
     ]
    }
   ],
   "source": [
    "desired_records = 300000\n",
    "selection_probability = desired_records / total_records\n",
    "\n",
    "selected_records = []\n",
    "with open(human_news_file, 'r', encoding='utf-8') as input_file:\n",
    "    for line in tqdm(input_file, total=total_records):\n",
    "        if random.random() < selection_probability:\n",
    "            record = json.loads(line)\n",
    "\n",
    "            filtered_record = {\n",
    "                'article': record.get('text', ''),\n",
    "                'label': 'human'\n",
    "            }\n",
    "            \n",
    "            selected_records.append(filtered_record)\n",
    "\n",
    "human_news_df = pd.DataFrame(selected_records)\n",
    "\n",
    "print(human_news_df.head(10))\n",
    "print(\"\\n\"+f\"Total records selected: {len(human_news_df)}\")"
   ]
  },
  {
   "cell_type": "markdown",
   "id": "e9cd1bb6-b9e7-4e2d-b6e9-83377fbe4278",
   "metadata": {},
   "source": [
    "## Combined news"
   ]
  },
  {
   "cell_type": "markdown",
   "id": "33252f89-fd87-4af2-9494-5feb6e23f79c",
   "metadata": {},
   "source": [
    "### Combine machine and human news"
   ]
  },
  {
   "cell_type": "code",
   "execution_count": 7,
   "id": "10441334-a757-46ac-a185-4b3876a1c622",
   "metadata": {},
   "outputs": [
    {
     "name": "stdout",
     "output_type": "stream",
     "text": [
      "                                                  article    label\n",
      "460762  Nearly all the oxygen and outrage in DC is bei...    human\n",
      "474314  At long last, Adam Levine and Ben Affleck have...    human\n",
      "339313  Sister of slain teen says she just wants her b...    human\n",
      "389473  Humor, compassion, honesty and more things men...    human\n",
      "336711  By The Life Science Report\\nSource: Daniel Car...    human\n",
      "82126   CLEVELAND, Ohio – Today we’ll be bringing peop...  machine\n",
      "291641  NU Online News Service, June 19, 3:44 p.m. EDT...    human\n",
      "20863   In the past few quarters, both passenger vehic...  machine\n",
      "201018  THE Ford F-150 Raptor and Mustang Shelby GT350...    human\n",
      "105409  Kyle Singler has other dreams this offseason.\\...  machine\n",
      "70554   LAHORE: Pakistan Muslim League, Tehreek-e-Insa...  machine\n",
      "136016  × Indiana University to recreate ancient, huge...  machine\n",
      "312914  (Reuters) - Generic drugmaker Mylan NV (MYL.O)...    human\n",
      "283240  0\\nA new month is almost here, which means Net...    human\n",
      "171990  news, local-news,\\nThe outpouring of grief all...  machine\n",
      "410611  Philippines airline Cebu Pacifc scored a viral...    human\n",
      "340264  LOS ANGELES — N.J. Gov. Chris Christie and New...    human\n",
      "133384  Lee Hurley was found among serious injuries Th...  machine\n",
      "388750  A rash of vehicle break-ins has been reported ...    human\n",
      "74377   Fox Business “Saturday Morning Money” host Stu...  machine\n",
      "\n",
      "Total number of records: 480149\n"
     ]
    }
   ],
   "source": [
    "combined_news_df = pd.concat([machine_news_df, human_news_df], ignore_index=True)\n",
    "combined_news_df = combined_news_df.sample(frac=1, random_state=777)\n",
    "\n",
    "print(combined_news_df.head(20))\n",
    "print(\"\\n\" + \"Total number of records:\", len(combined_news_df))"
   ]
  },
  {
   "cell_type": "markdown",
   "id": "2b4e8335-510a-4dac-af72-defcba7d174e",
   "metadata": {},
   "source": [
    "### Display distribtuion of machine versus human news"
   ]
  },
  {
   "cell_type": "code",
   "execution_count": 8,
   "id": "50f8a9b0-5b4a-4af1-a13c-9b532d1541ec",
   "metadata": {},
   "outputs": [
    {
     "data": {
      "image/png": "[encoded data removed]",
      "text/plain": [
       "<Figure size 600x600 with 1 Axes>"
      ]
     },
     "metadata": {},
     "output_type": "display_data"
    }
   ],
   "source": [
    "import matplotlib.pyplot as plt\n",
    "label_counts = combined_news_df ['label'].value_counts()\n",
    "\n",
    "plt.figure(figsize=(6, 6))\n",
    "plt.pie(label_counts, labels=label_counts.index,\n",
    "        autopct=lambda p: f'{p:.1f}%\\n({(p/100)*label_counts.sum():,.0f})', startangle=140)\n",
    "plt.title(f'Distribution of Machine vs. Human Data ({len(combined_news_df ):,})')\n",
    "plt.show()"
   ]
  },
  {
   "cell_type": "markdown",
   "id": "1aff5c06-481f-49d9-8100-704615071125",
   "metadata": {},
   "source": [
    "### Write the combined news dataframe to a file"
   ]
  },
  {
   "cell_type": "code",
   "execution_count": 9,
   "id": "50872e4a-c902-4254-b87a-13997e3794c2",
   "metadata": {},
   "outputs": [
    {
     "name": "stdout",
     "output_type": "stream",
     "text": [
      "Number of records written: 480149\n"
     ]
    }
   ],
   "source": [
    "array = combined_news_df.to_numpy()\n",
    "np.save('./data/combined~large_dataset.npy', array)\n",
    "\n",
    "num_records = len(combined_news_df)\n",
    "print(\"Number of records written:\", num_records)"
   ]
  },
  {
   "cell_type": "markdown",
   "id": "700c6363-9090-480a-b9b0-a4d4b0a4972f",
   "metadata": {},
   "source": [
    "### Load the combined news file into a dataframe"
   ]
  },
  {
   "cell_type": "code",
   "execution_count": 10,
   "id": "a49d383b-cc9f-49ca-85dd-06e85cb2a762",
   "metadata": {},
   "outputs": [
    {
     "name": "stdout",
     "output_type": "stream",
     "text": [
      "Number of records loaded: 480149\n"
     ]
    }
   ],
   "source": [
    "array = np.load('./data/combined~large_dataset.npy', allow_pickle=True)\n",
    "news_df = pd.DataFrame(array, columns=['article', 'label'])\n",
    "\n",
    "num_records = len(news_df)\n",
    "print(f\"Number of records loaded:\", num_records)"
   ]
  },
  {
   "cell_type": "markdown",
   "id": "3b260239-0697-4f45-b582-d17af2252a89",
   "metadata": {},
   "source": [
    "### Plot and see if the distribution still looks correct"
   ]
  },
  {
   "cell_type": "code",
   "execution_count": 11,
   "id": "b53faac8-82aa-43b7-945a-aaf2cffb92d9",
   "metadata": {},
   "outputs": [
    {
     "data": {
      "image/png": "[encoded data removed]",
      "text/plain": [
       "<Figure size 600x600 with 1 Axes>"
      ]
     },
     "metadata": {},
     "output_type": "display_data"
    }
   ],
   "source": [
    "label_counts = news_df['label'].value_counts()\n",
    "\n",
    "plt.figure(figsize=(6, 6))\n",
    "plt.pie(label_counts, labels=label_counts.index,\n",
    "        autopct=lambda p: f'{p:.1f}%\\n({(p/100)*label_counts.sum():,.0f})', startangle=140)\n",
    "plt.title(f'Distribution of Machine vs. Human Data ({len(news_df):,})')\n",
    "plt.show()"
   ]
  },
  {
   "cell_type": "markdown",
   "id": "ffaf2335-4ba5-4cd1-9b59-4b600c26b727",
   "metadata": {},
   "source": [
    "## Prepare data for training"
   ]
  },
  {
   "cell_type": "markdown",
   "id": "6a446104-4dd8-4c42-a154-75b3b0b22db6",
   "metadata": {},
   "source": [
    "### Replace label with number"
   ]
  },
  {
   "cell_type": "code",
   "execution_count": 12,
   "id": "1b690e14-6a6b-4965-b00f-d30c8a28fba1",
   "metadata": {},
   "outputs": [
    {
     "name": "stderr",
     "output_type": "stream",
     "text": [
      "/tmp/ipykernel_97710/201239586.py:2: FutureWarning: Downcasting behavior in `replace` is deprecated and will be removed in a future version. To retain the old behavior, explicitly call `result.infer_objects(copy=False)`. To opt-in to the future behavior, set `pd.set_option('future.no_silent_downcasting', True)`\n",
      "  news_df['label'] = news_df['label'].replace({'human': 0, 'machine': 1})\n"
     ]
    },
    {
     "data": {
      "text/html": [
       "<div>\n",
       "<style scoped>\n",
       "    .dataframe tbody tr th:only-of-type {\n",
       "        vertical-align: middle;\n",
       "    }\n",
       "\n",
       "    .dataframe tbody tr th {\n",
       "        vertical-align: top;\n",
       "    }\n",
       "\n",
       "    .dataframe thead th {\n",
       "        text-align: right;\n",
       "    }\n",
       "</style>\n",
       "<table border=\"1\" class=\"dataframe\">\n",
       "  <thead>\n",
       "    <tr style=\"text-align: right;\">\n",
       "      <th></th>\n",
       "      <th>article</th>\n",
       "      <th>label</th>\n",
       "    </tr>\n",
       "  </thead>\n",
       "  <tbody>\n",
       "    <tr>\n",
       "      <th>0</th>\n",
       "      <td>Nearly all the oxygen and outrage in DC is bei...</td>\n",
       "      <td>0</td>\n",
       "    </tr>\n",
       "    <tr>\n",
       "      <th>1</th>\n",
       "      <td>At long last, Adam Levine and Ben Affleck have...</td>\n",
       "      <td>0</td>\n",
       "    </tr>\n",
       "    <tr>\n",
       "      <th>2</th>\n",
       "      <td>Sister of slain teen says she just wants her b...</td>\n",
       "      <td>0</td>\n",
       "    </tr>\n",
       "    <tr>\n",
       "      <th>3</th>\n",
       "      <td>Humor, compassion, honesty and more things men...</td>\n",
       "      <td>0</td>\n",
       "    </tr>\n",
       "    <tr>\n",
       "      <th>4</th>\n",
       "      <td>By The Life Science Report\\nSource: Daniel Car...</td>\n",
       "      <td>0</td>\n",
       "    </tr>\n",
       "    <tr>\n",
       "      <th>...</th>\n",
       "      <td>...</td>\n",
       "      <td>...</td>\n",
       "    </tr>\n",
       "    <tr>\n",
       "      <th>480144</th>\n",
       "      <td>* Bounce back to 1,000-capacity matroncy will ...</td>\n",
       "      <td>1</td>\n",
       "    </tr>\n",
       "    <tr>\n",
       "      <th>480145</th>\n",
       "      <td>Many European and US businesses aren't prepare...</td>\n",
       "      <td>0</td>\n",
       "    </tr>\n",
       "    <tr>\n",
       "      <th>480146</th>\n",
       "      <td>According to Flickr statistics regarding camer...</td>\n",
       "      <td>0</td>\n",
       "    </tr>\n",
       "    <tr>\n",
       "      <th>480147</th>\n",
       "      <td>1 of 9 2 of 9\\nUPDATE: BTS's management agency...</td>\n",
       "      <td>0</td>\n",
       "    </tr>\n",
       "    <tr>\n",
       "      <th>480148</th>\n",
       "      <td>Lake Elsinore is overdue for a new downtown li...</td>\n",
       "      <td>0</td>\n",
       "    </tr>\n",
       "  </tbody>\n",
       "</table>\n",
       "<p>480149 rows × 2 columns</p>\n",
       "</div>"
      ],
      "text/plain": [
       "                                                  article  label\n",
       "0       Nearly all the oxygen and outrage in DC is bei...      0\n",
       "1       At long last, Adam Levine and Ben Affleck have...      0\n",
       "2       Sister of slain teen says she just wants her b...      0\n",
       "3       Humor, compassion, honesty and more things men...      0\n",
       "4       By The Life Science Report\\nSource: Daniel Car...      0\n",
       "...                                                   ...    ...\n",
       "480144  * Bounce back to 1,000-capacity matroncy will ...      1\n",
       "480145  Many European and US businesses aren't prepare...      0\n",
       "480146  According to Flickr statistics regarding camer...      0\n",
       "480147  1 of 9 2 of 9\\nUPDATE: BTS's management agency...      0\n",
       "480148  Lake Elsinore is overdue for a new downtown li...      0\n",
       "\n",
       "[480149 rows x 2 columns]"
      ]
     },
     "execution_count": 12,
     "metadata": {},
     "output_type": "execute_result"
    }
   ],
   "source": [
    "news_df = news_df[['article', 'label']]\n",
    "news_df['label'] = news_df['label'].replace({'human': 0, 'machine': 1})\n",
    "news_df"
   ]
  },
  {
   "cell_type": "markdown",
   "id": "6ab61f80-787b-4c2f-b620-dd94f76905ee",
   "metadata": {},
   "source": [
    "### Split dataset into training, evaluation, and test"
   ]
  },
  {
   "cell_type": "code",
   "execution_count": 13,
   "id": "aa985988-697a-4abe-a687-f07c75bac46f",
   "metadata": {},
   "outputs": [
    {
     "data": {
      "text/plain": [
       "DatasetDict({\n",
       "    train: Dataset({\n",
       "        features: ['article', 'label'],\n",
       "        num_rows: 480149\n",
       "    })\n",
       "})"
      ]
     },
     "execution_count": 13,
     "metadata": {},
     "output_type": "execute_result"
    }
   ],
   "source": [
    "from datasets import Dataset, DatasetDict\n",
    "news_ds = DatasetDict({\"train\": Dataset.from_pandas(news_df)})\n",
    "news_ds"
   ]
  },
  {
   "cell_type": "code",
   "execution_count": 14,
   "id": "9014d66b-27ee-43ca-afa7-b9468b41d06e",
   "metadata": {},
   "outputs": [
    {
     "data": {
      "text/plain": [
       "DatasetDict({\n",
       "    train: Dataset({\n",
       "        features: ['article', 'label'],\n",
       "        num_rows: 72022\n",
       "    })\n",
       "    test: Dataset({\n",
       "        features: ['article', 'label'],\n",
       "        num_rows: 72023\n",
       "    })\n",
       "})"
      ]
     },
     "execution_count": 14,
     "metadata": {},
     "output_type": "execute_result"
    }
   ],
   "source": [
    "news_split = news_ds['train'].train_test_split(test_size=0.3, seed=custom_seed)\n",
    "test_eval_split = news_split['test'].train_test_split(test_size=0.5, seed=custom_seed)\n",
    "test_eval_split"
   ]
  },
  {
   "cell_type": "code",
   "execution_count": 15,
   "id": "ffa23c05-d063-49e1-b7c9-0b4af55721ad",
   "metadata": {},
   "outputs": [
    {
     "data": {
      "text/plain": [
       "DatasetDict({\n",
       "    train: Dataset({\n",
       "        features: ['article', 'label'],\n",
       "        num_rows: 336104\n",
       "    })\n",
       "    eval: Dataset({\n",
       "        features: ['article', 'label'],\n",
       "        num_rows: 72022\n",
       "    })\n",
       "    test: Dataset({\n",
       "        features: ['article', 'label'],\n",
       "        num_rows: 72023\n",
       "    })\n",
       "})"
      ]
     },
     "execution_count": 15,
     "metadata": {},
     "output_type": "execute_result"
    }
   ],
   "source": [
    "news_split_ds = DatasetDict({\n",
    "    'train': news_split['train'],  # The training set from the first split\n",
    "    'eval': test_eval_split['train'],  # Half of the test set from the first split, now used as eval\n",
    "    'test': test_eval_split['test']  # The other half of the test set from the first split\n",
    "})\n",
    "news_split_ds"
   ]
  },
  {
   "cell_type": "markdown",
   "id": "73bbbfb9-2ea3-4540-8e88-4e9aa0e2bf91",
   "metadata": {},
   "source": [
    "### Save the news split dataset as a pickle file for the large dataset"
   ]
  },
  {
   "cell_type": "code",
   "execution_count": 16,
   "id": "eb03cc64-671d-45b0-84b6-fa48ba0368f2",
   "metadata": {},
   "outputs": [
    {
     "name": "stdout",
     "output_type": "stream",
     "text": [
      "Dataset has been pickled to: ./data/news_large_dataset.pkl\n"
     ]
    }
   ],
   "source": [
    "import pickle\n",
    "\n",
    "def pickle_dataset(dataset, file_path):\n",
    "    with open(file_path, 'wb') as file:\n",
    "        pickle.dump(dataset, file)\n",
    "        print(f\"Dataset has been pickled to: {file_path}\")\n",
    "\n",
    "file_path = './data/news_large_dataset.pkl'\n",
    "pickle_dataset(news_split_ds, file_path)"
   ]
  },
  {
   "cell_type": "markdown",
   "id": "efec0570-9686-4fb2-80c1-4939069769ef",
   "metadata": {},
   "source": [
    "### Start here to create percent subset sampling from full dataset"
   ]
  },
  {
   "cell_type": "code",
   "execution_count": 2,
   "id": "1c3a0fb0-b32e-4a7c-9231-069732df79bb",
   "metadata": {},
   "outputs": [
    {
     "name": "stdout",
     "output_type": "stream",
     "text": [
      "Loaded dataset successfully.\n"
     ]
    }
   ],
   "source": [
    "import pickle\n",
    "\n",
    "def load_pickle_dataset(file_path):\n",
    "    with open(file_path, 'rb') as file:\n",
    "        dataset = pickle.load(file)\n",
    "    return dataset\n",
    "\n",
    "file_path = './data/news_large_dataset.pkl'\n",
    "news_split_ds = load_pickle_dataset(file_path)\n",
    "print(\"Loaded dataset successfully.\")"
   ]
  },
  {
   "cell_type": "code",
   "execution_count": 3,
   "id": "52423a87-295f-4bd8-8b81-184179dfecf4",
   "metadata": {},
   "outputs": [
    {
     "data": {
      "text/plain": [
       "DatasetDict({\n",
       "    train: Dataset({\n",
       "        features: ['article', 'label'],\n",
       "        num_rows: 336104\n",
       "    })\n",
       "    eval: Dataset({\n",
       "        features: ['article', 'label'],\n",
       "        num_rows: 72022\n",
       "    })\n",
       "    test: Dataset({\n",
       "        features: ['article', 'label'],\n",
       "        num_rows: 72023\n",
       "    })\n",
       "})"
      ]
     },
     "execution_count": 3,
     "metadata": {},
     "output_type": "execute_result"
    }
   ],
   "source": [
    "news_split_ds"
   ]
  },
  {
   "cell_type": "markdown",
   "id": "35b84cc6-bf10-4527-92b8-936f88bf5e58",
   "metadata": {},
   "source": [
    "### Create a small dataset"
   ]
  },
  {
   "cell_type": "code",
   "execution_count": 4,
   "id": "54af87d3-a092-4723-9cc2-063adee9cfe9",
   "metadata": {},
   "outputs": [
    {
     "name": "stdout",
     "output_type": "stream",
     "text": [
      "DatasetDict({\n",
      "    train: Dataset({\n",
      "        features: ['article', 'label'],\n",
      "        num_rows: 33611\n",
      "    })\n",
      "    eval: Dataset({\n",
      "        features: ['article', 'label'],\n",
      "        num_rows: 7203\n",
      "    })\n",
      "    test: Dataset({\n",
      "        features: ['article', 'label'],\n",
      "        num_rows: 7203\n",
      "    })\n",
      "})\n"
     ]
    }
   ],
   "source": [
    "from datasets import DatasetDict\n",
    "\n",
    "# Sample % from each subset\n",
    "sample_fraction = 0.10\n",
    "\n",
    "sampled_news_split_ds = DatasetDict({\n",
    "    'train': news_split_ds['train'].train_test_split(test_size=sample_fraction, seed=custom_seed)['test'],\n",
    "    'eval': news_split_ds['eval'].train_test_split(test_size=sample_fraction, seed=custom_seed)['test'],\n",
    "    'test': news_split_ds['test'].train_test_split(test_size=sample_fraction, seed=custom_seed)['test']\n",
    "})\n",
    "\n",
    "print(sampled_news_split_ds)"
   ]
  },
  {
   "cell_type": "markdown",
   "id": "a2fb1408-94c0-43e8-b1f9-eee16c4bd625",
   "metadata": {},
   "source": [
    "### Save the news split dataset as a pickle file for the small dataset"
   ]
  },
  {
   "cell_type": "code",
   "execution_count": 5,
   "id": "8e906568-9099-4207-89da-abd411e43699",
   "metadata": {},
   "outputs": [
    {
     "name": "stdout",
     "output_type": "stream",
     "text": [
      "Dataset has been pickled to: ./data/news_small_dataset.pkl\n"
     ]
    }
   ],
   "source": [
    "file_path = './data/news_small_dataset.pkl'\n",
    "\n",
    "def pickle_dataset(dataset, file_path):\n",
    "    with open(file_path, 'wb') as file:\n",
    "        pickle.dump(dataset, file)\n",
    "        print(f\"Dataset has been pickled to: {file_path}\")\n",
    "\n",
    "pickle_dataset(sampled_news_split_ds, file_path)"
   ]
  },
  {
   "cell_type": "code",
   "execution_count": 6,
   "id": "d059e2f8-17c7-4428-898d-910080b24273",
   "metadata": {},
   "outputs": [
    {
     "name": "stdout",
     "output_type": "stream",
     "text": [
      "Loaded dataset successfully.\n"
     ]
    }
   ],
   "source": [
    "import pickle\n",
    "\n",
    "def load_pickle_dataset(file_path):\n",
    "    with open(file_path, 'rb') as file:\n",
    "        dataset = pickle.load(file)\n",
    "    return dataset\n",
    "\n",
    "file_path = './data/news_small_dataset.pkl'\n",
    "news_split_ds = load_pickle_dataset(file_path)\n",
    "print(\"Loaded dataset successfully.\")"
   ]
  },
  {
   "cell_type": "code",
   "execution_count": 7,
   "id": "cf67c7b2-a626-4c70-861f-5b0d447c5e8e",
   "metadata": {},
   "outputs": [
    {
     "data": {
      "text/plain": [
       "DatasetDict({\n",
       "    train: Dataset({\n",
       "        features: ['article', 'label'],\n",
       "        num_rows: 33611\n",
       "    })\n",
       "    eval: Dataset({\n",
       "        features: ['article', 'label'],\n",
       "        num_rows: 7203\n",
       "    })\n",
       "    test: Dataset({\n",
       "        features: ['article', 'label'],\n",
       "        num_rows: 7203\n",
       "    })\n",
       "})"
      ]
     },
     "execution_count": 7,
     "metadata": {},
     "output_type": "execute_result"
    }
   ],
   "source": [
    "news_split_ds"
   ]
  }
 ],
 "metadata": {
  "kernelspec": {
   "display_name": "Python 3 (ipykernel)",
   "language": "python",
   "name": "python3"
  },
  "language_info": {
   "codemirror_mode": {
    "name": "ipython",
    "version": 3
   },
   "file_extension": ".py",
   "mimetype": "text/x-python",
   "name": "python",
   "nbconvert_exporter": "python",
   "pygments_lexer": "ipython3",
   "version": "3.10.12"
  }
 },
 "nbformat": 4,
 "nbformat_minor": 5
}
